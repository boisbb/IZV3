{
 "metadata": {
  "language_info": {
   "codemirror_mode": {
    "name": "ipython",
    "version": 3
   },
   "file_extension": ".py",
   "mimetype": "text/x-python",
   "name": "python",
   "nbconvert_exporter": "python",
   "pygments_lexer": "ipython3",
   "version": "3.8.5-final"
  },
  "orig_nbformat": 2,
  "kernelspec": {
   "name": "python38564bit3b09972b725f401a9c017f05ef2b1c64",
   "display_name": "Python 3.8.5 64-bit",
   "language": "python"
  }
 },
 "nbformat": 4,
 "nbformat_minor": 2,
 "cells": [
  {
   "cell_type": "code",
   "execution_count": 18,
   "metadata": {},
   "outputs": [],
   "source": [
    "import pandas as pd\n",
    "import geopandas\n",
    "from scipy.stats import chi2_contingency\n",
    "from scipy.stats import chi2"
   ]
  },
  {
   "cell_type": "code",
   "execution_count": 23,
   "metadata": {},
   "outputs": [
    {
     "output_type": "execute_result",
     "data": {
      "text/plain": [
       "injury    False  True \n",
       "alcohol               \n",
       "False    457528  10777\n",
       "True      16492    886"
      ],
      "text/html": "<div>\n<style scoped>\n    .dataframe tbody tr th:only-of-type {\n        vertical-align: middle;\n    }\n\n    .dataframe tbody tr th {\n        vertical-align: top;\n    }\n\n    .dataframe thead th {\n        text-align: right;\n    }\n</style>\n<table border=\"1\" class=\"dataframe\">\n  <thead>\n    <tr style=\"text-align: right;\">\n      <th>injury</th>\n      <th>False</th>\n      <th>True</th>\n    </tr>\n    <tr>\n      <th>alcohol</th>\n      <th></th>\n      <th></th>\n    </tr>\n  </thead>\n  <tbody>\n    <tr>\n      <th>False</th>\n      <td>457528</td>\n      <td>10777</td>\n    </tr>\n    <tr>\n      <th>True</th>\n      <td>16492</td>\n      <td>886</td>\n    </tr>\n  </tbody>\n</table>\n</div>"
     },
     "metadata": {},
     "execution_count": 23
    }
   ],
   "source": [
    "df = pd.read_pickle(\"accidents.pkl.gz\")\n",
    "df = df[(df['p11'] != 4) & (df['p11'] != 5)]\n",
    "# df = df[((df['p13a'] + df['p13b']) > 0) & ((df['p11'] != 4) | (df['p11'] != 5)) & (df['p11'] >= 7)]\n",
    "df['alcohol'] = df.apply(lambda row: True if row['p11'] >= 7 else False, axis=1)\n",
    "df['injury'] = df.apply(lambda row: True if ((row['p13a'] + row['p13b']) > 0) else False, axis=1)\n",
    "#df\n",
    "res = pd.crosstab(df.alcohol, df.injury)\n",
    "res"
   ]
  },
  {
   "cell_type": "code",
   "execution_count": 25,
   "metadata": {},
   "outputs": [
    {
     "output_type": "stream",
     "name": "stdout",
     "text": [
      "dof = 1\nexpected = [[4.57059308e+05 1.12456916e+04]\n [1.69606916e+04 4.17308438e+02]]\nprobability = 0.95 | critical = 3.841458820694124 | stat = 558.1749514234125\nHypothesis rejected.\nHypothesis rejected.\n"
     ]
    }
   ],
   "source": [
    "stat, p, dof, expected = chi2_contingency(res)\n",
    "print(f\"dof = {dof}\")\n",
    "print(f\"expected = {expected}\")\n",
    "\n",
    "critical = chi2.ppf(0.95, dof)\n",
    "print(f'probability = 0.95 | critical = {critical} | stat = {stat}')\n",
    "if abs(stat) >= critical:\n",
    "    print('Hypothesis rejected.')\n",
    "else:\n",
    "    print('Failed to reject hypothesis')\n",
    "\n",
    "alpha = 1.0 - 0.95\n",
    "print(f'p-value = {p}')\n",
    "if p <= alpha:\n",
    "    print('Hypothesis rejected.')\n",
    "else:\n",
    "    print('Failed to reject hypothesis')\n",
    "    "
   ]
  },
  {
   "cell_type": "code",
   "execution_count": null,
   "metadata": {},
   "outputs": [],
   "source": []
  }
 ]
}